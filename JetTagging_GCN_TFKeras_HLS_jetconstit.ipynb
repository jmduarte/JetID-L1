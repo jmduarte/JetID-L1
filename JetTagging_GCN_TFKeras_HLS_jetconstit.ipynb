{
 "cells": [
  {
   "cell_type": "markdown",
   "metadata": {
    "id": "JK0wr2onBn4d"
   },
   "source": [
    "# GCN for Jet tagging using jet constituents from HLS data\n",
    "## Author: Andre Sznajder"
   ]
  },
  {
   "cell_type": "code",
   "execution_count": 1,
   "metadata": {
    "colab": {
     "base_uri": "https://localhost:8080/"
    },
    "executionInfo": {
     "elapsed": 3006,
     "status": "ok",
     "timestamp": 1616956528247,
     "user": {
      "displayName": "Andre Sznajder",
      "photoUrl": "https://lh3.googleusercontent.com/-Bujzmul3q4w/AAAAAAAAAAI/AAAAAAAAA30/Zzdg4zcPB-8/s64/photo.jpg",
      "userId": "12562331206892861623"
     },
     "user_tz": -120
    },
    "id": "WrNOdwasBsHc",
    "outputId": "403bd6fb-ede6-43c8-9cf7-235cccf77806"
   },
   "outputs": [],
   "source": [
    "#!fusermount -u drive\n",
    "#! pip install einops"
   ]
  },
  {
   "cell_type": "code",
   "execution_count": 2,
   "metadata": {
    "colab": {
     "base_uri": "https://localhost:8080/"
    },
    "executionInfo": {
     "elapsed": 3272,
     "status": "ok",
     "timestamp": 1616956528520,
     "user": {
      "displayName": "Andre Sznajder",
      "photoUrl": "https://lh3.googleusercontent.com/-Bujzmul3q4w/AAAAAAAAAAI/AAAAAAAAA30/Zzdg4zcPB-8/s64/photo.jpg",
      "userId": "12562331206892861623"
     },
     "user_tz": -120
    },
    "id": "MhGGIDIvBu2V",
    "outputId": "20e67e9a-104e-4ce2-ac75-540ae8e1f459"
   },
   "outputs": [],
   "source": [
    "#from google.colab import drive\n",
    "#drive.mount('/content/gdrive', force_remount=True)\n",
    "#data_dir = '/content/gdrive/My Drive/Colab Notebooks/Data/'\n"
   ]
  },
  {
   "cell_type": "markdown",
   "metadata": {
    "id": "TxGwUjLmBn4f"
   },
   "source": [
    "# Load HLS4ML dataset \n",
    "\n",
    "## Here, we load the numpy arrays containing the 4D tensors of \"jet-images\" (see https://arxiv.org/pdf/1511.05190.pdf)\n",
    "\n",
    "## https://github.com/pierinim/tutorials/blob/master/GGI_Jan2021/Lecture1/Notebook1_ExploreDataset.ipynb\n",
    "\n",
    " * 'jetImage' contains the image representation of the jets (more later)\n",
    "\n",
    " * 'jetImageECAL' and 'jetImageHCAL' are the ECAL- and HCAL-only equivalent images. We will not use them (but you are more than welcome to play with it)\n",
    "\n",
    " * 'jetConstituentList' is the list of particles cointained in the jet. For each particle, a list of relevant quantities is stored\n",
    "\n",
    " * 'particleFeatureNames' is the list of the names corresponding to the quantities contained in 'jetConstituentList' 'jets' is the dataset we consider for the moment\n",
    "\n",
    " * 'jetFeatureNames' is the list of the names corresponding to the quantities contained in 'jets'\n"
   ]
  },
  {
   "cell_type": "code",
   "execution_count": 3,
   "metadata": {
    "executionInfo": {
     "elapsed": 3269,
     "status": "ok",
     "timestamp": 1616956528521,
     "user": {
      "displayName": "Andre Sznajder",
      "photoUrl": "https://lh3.googleusercontent.com/-Bujzmul3q4w/AAAAAAAAAAI/AAAAAAAAA30/Zzdg4zcPB-8/s64/photo.jpg",
      "userId": "12562331206892861623"
     },
     "user_tz": -120
    },
    "id": "TcXokNduBn4g"
   },
   "outputs": [
    {
     "name": "stdout",
     "output_type": "stream",
     "text": [
      "Target shape = (620000, 5)\n",
      "Jet Constituents shape = (620000, 150, 3)\n"
     ]
    }
   ],
   "source": [
    "import numpy as np\n",
    "import h5py\n",
    "import os\n",
    "\n",
    "# for pT, eta_rel, phi_rel\n",
    "#   myJetConstituentList = np.array(f.get(\"jetConstituentList\")[:,:,[5,8,11]])\n",
    "# for px, py, pz\n",
    "#   myJetConstituentList = np.array(f.get(\"jetConstituentList\")[:,:,[0,1,2]])\n",
    "#   myJetConstituentList = np.array(f.get(\"jetConstituentList\"))\n",
    "#\n",
    "# Jet Constituents Features =  [0='j1_px', 1='j1_py', 2='j1_pz', 3='j1_e', 4='j1_erel', 5='j1_pt', 6='j1_ptrel',\n",
    "#                         7='j1_eta', 8='j1_etarel', 9='j1_etarot', 10='j1_phi', 11='j1_phirel', 12='j1_phirot',\n",
    "#                         13='j1_deltaR', 14='j1_costheta', 15='j1_costhetarel', 16='j1_pdgid']\n",
    "\n",
    "\n",
    "\n",
    "#Data PATH\n",
    "TRAIN_PATH = '/Users/sznajder/WorkM1/miniforge3/tensorflow_macos/arm64/workdir/data/hls4ml_LHCjet_150p_train/'\n",
    "\n",
    "# Prepare the DATA\n",
    "#target = np.array([])\n",
    "#jetConstituent = np.array([])\n",
    "#jetImage = np.array([])\n",
    "\n",
    "first=True\n",
    "for file in os.listdir(TRAIN_PATH):\n",
    "  with h5py.File(TRAIN_PATH+file, 'r') as data:\n",
    "    if first : \n",
    "        first=False\n",
    "        jetConstituent = data['jetConstituentList'][:,:,[5,8,11]]  # \n",
    "        jetConstituent = data['jetConstituentList'][:,:,[5,8,11]]  # \n",
    "#        jetImage= data['jetImage'][:,:,:] \n",
    "        target = data['jets'][:,-6:-1] \n",
    "    else:\n",
    "         # Read (Pt,Etarel,Phirel)\n",
    "        jetConstituent = np.concatenate( [ jetConstituent, data['jetConstituentList'][:,:,[5,8,11]] ] , axis=0 )\n",
    "         # Read (Pt,Eta,Phi)\n",
    "#        jetConstituent = np.concatenate( [ jetConstituent, data['jetConstituentList'][:,:,[5,7,10]] ] , axis=0 )\n",
    "#        jetImage = np.concatenate( [ jetImage, data['jetImage']    ] , axis=0 )\n",
    "        target   = np.concatenate( [ target, data['jets'][:,-6:-1] ] , axis=0 )\n",
    "\n",
    "\n",
    "'''\n",
    "# for fileIN in glob.glob(data_dir+\"*h5\"):\n",
    "first=1\n",
    "target = np.array([])\n",
    "jetConstituent = np.array([])\n",
    "jetImage = np.array([])\n",
    "\n",
    "for fileIN in datafiles:\n",
    "    print(\"Appending %s\" %fileIN)\n",
    "    f = h5py.File(fileIN)\n",
    "    if (first):\n",
    "        first=0\n",
    "        print(\"Keys in H5PY files = \",list( f.keys() ))\n",
    "        print(\" \")\n",
    "        featurenames = f.get('jetFeatureNames')\n",
    "        print(\"Jets Features = \",featurenames[:])\n",
    "        # the b is due to the byte vs utf-8 encoding of the strings in the dataset\n",
    "        # just ignore them for the moment\n",
    "        print(\" \")\n",
    "        featurenames = f.get('particleFeatureNames')\n",
    "        print(\"Jet Constituents Features = \",featurenames[:])\n",
    "        print(\" \")\n",
    "        images = f.get('jetImage')\n",
    "        print(\"Jet Images = \",images[:])        \n",
    "        print(\"Jet Image Shape = \",images.shape)   \n",
    "        print(\" \")\n",
    " \n",
    "    # for pT, eta, phi\n",
    "    #myJetConstituentList = np.array(f.get(\"jetConstituentList\")[:,:,[5,8,11]])\n",
    "    # for px, py, pz\n",
    "    #myJetConstituentList = np.array(f.get(\"jetConstituentList\")[:,:,[0,1,2]])\n",
    "#    myJetConstituentList = np.array(f.get(\"jetConstituentList\"))\n",
    "\n",
    "    # for pT, eta, phi\n",
    "    myJetConstituent = np.array(f.get(\"jetConstituentList\")[:,:,[5,8,11]])\n",
    "    mytarget = np.array(f.get('jets')[0:,-6:-1])\n",
    "    myimage  = np.array(f.get('jetImage'))\n",
    "    jetConstituent = np.concatenate([jetConstituent, myJetConstituent], axis=0) if jetConstituent.size else myJetConstituent\n",
    "    target = np.concatenate([target, mytarget], axis=0) if target.size else mytarget\n",
    "    jetImage = np.concatenate([jetImage, myimage], axis=0) if jetImage.size else myimage\n",
    "    del myJetConstituent, mytarget , myimage\n",
    "    f.close()\n",
    "'''\n",
    "                                    \n",
    "print(\"Target shape =\", target.shape)\n",
    "print(\"Jet Constituents shape =\", jetConstituent.shape)\n",
    "#print(\"Jet Image shape =\", jetImage.shape)\n"
   ]
  },
  {
   "cell_type": "markdown",
   "metadata": {},
   "source": [
    "# The image dataset\n",
    "\n",
    "Jets can be converted to images considering the (&eta;, &phi;) plane, centered along the axis direction and binned.\n",
    "In our case, we consider a square of 1.6x1.6 in size (because the jet size is R=0.8) binned in 100x100 equal-size 'cells'\n"
   ]
  },
  {
   "cell_type": "markdown",
   "metadata": {},
   "source": [
    "# The ground truth is incorporated in the ['g', 'q', 'w', 'z', 't'] vector of boolean, taking the form\n",
    " \n",
    "## [1, 0, 0, 0, 0] for gluons\n",
    " \n",
    "## [0, 1, 0, 0, 0] for quarks\n",
    " \n",
    "## [0, 0, 1, 0, 0] for Ws\n",
    " \n",
    "## [0, 0, 0, 1, 0] for Zs\n",
    " \n",
    "## [0, 0, 0, 0, 1] for tops\n",
    "\n",
    "## This is what is called 'one-hot' encoding of a descrete label (typical of ground truth for classification problems)\n",
    "\n"
   ]
  },
  {
   "cell_type": "code",
   "execution_count": 4,
   "metadata": {
    "colab": {
     "base_uri": "https://localhost:8080/"
    },
    "executionInfo": {
     "elapsed": 3265,
     "status": "ok",
     "timestamp": 1616956528521,
     "user": {
      "displayName": "Andre Sznajder",
      "photoUrl": "https://lh3.googleusercontent.com/-Bujzmul3q4w/AAAAAAAAAAI/AAAAAAAAA30/Zzdg4zcPB-8/s64/photo.jpg",
      "userId": "12562331206892861623"
     },
     "user_tz": -120
    },
    "id": "YAJhuubTBn4k",
    "outputId": "8dc7af15-bbc1-4421-861a-72dee1979a30"
   },
   "outputs": [
    {
     "name": "stdout",
     "output_type": "stream",
     "text": [
      "Number of jets = 620000\n",
      "Number of constituents = 150\n",
      "Number of features = 3\n",
      "------>>>> New Max Number of constituents = 32\n"
     ]
    }
   ],
   "source": [
    "from einops import rearrange, reduce, repeat\n",
    "\n",
    "# Convert target format from one-hot encoding to single neuron\n",
    "#target = np.argmax(target, axis=1)\n",
    "\n",
    "# The dataset is N_jets x N_constituents x N_features\n",
    "njet     = jetConstituent.shape[0]\n",
    "nconstit = jetConstituent.shape[1]\n",
    "nfeat    = jetConstituent.shape[2]\n",
    "\n",
    "print('Number of jets =',njet)\n",
    "print('Number of constituents =',nconstit)\n",
    "print('Number of features =',nfeat)\n",
    "\n",
    "# Restric the number of constituents to a maximum of NMAX\n",
    "nmax = 32\n",
    "jetConstituent = jetConstituent[:,0:nmax,:]\n",
    "nconstit = jetConstituent.shape[1]\n",
    "print('------>>>> New Max Number of constituents =',nconstit)\n",
    "\n",
    "# Flatten the 2D ( eta x phi ) jet image into 1D array to input into a MLP \n",
    "#jetImage = rearrange( jetImage , 'batch eta phi -> batch (eta phi)' )  \n",
    "#print('Shape of flattened jetImage=',jetImage.shape)\n"
   ]
  },
  {
   "cell_type": "markdown",
   "metadata": {},
   "source": [
    "## Create the Adjacency Matrix for each Jet Image"
   ]
  },
  {
   "cell_type": "code",
   "execution_count": 5,
   "metadata": {},
   "outputs": [
    {
     "name": "stdout",
     "output_type": "stream",
     "text": [
      "AA Shape =  (620000, 32, 32)\n",
      "XX Shape =  (620000, 32, 3)\n",
      "YY Shape =  (620000, 5)\n",
      "AA Shape[0] =  620000\n",
      "AA Shape[1] =  32\n",
      "AA Shape[2] =  32\n",
      "XX Shape[0] =  620000\n",
      "XX Shape[1] =  32\n",
      "XX Shape[2] =  3\n"
     ]
    }
   ],
   "source": [
    "from sklearn.neighbors import kneighbors_graph\n",
    "import math\n",
    "\n",
    "# Create Graphs from jet images with the following format\n",
    "#\n",
    "#  Adjacent matrix:  A[batch_size, num_nodes, num_nodes] (should be normalized in advance)\n",
    "#  Features matrix:  X[batch_size, num_nodes, num_features]\n",
    "#       \n",
    "\n",
    "'''\n",
    "M = np.array([])\n",
    "for x in np.arange(0,dim):\n",
    "    result = np.array([])\n",
    "\n",
    "    for y in np.arange(0,dim):\n",
    "        result_temp = sum(arr1[arr2 == x] == y)\n",
    "        result = np.append(result, result_temp)\n",
    "\n",
    "    M = np.append(M,result) \n",
    "'''\n",
    "\n",
    "# Loop over jets to create a Graph Adjacency\n",
    "A = []\n",
    "X = []\n",
    "Y = []\n",
    "ng = 0\n",
    "\n",
    "# Loop over jets\n",
    "for constit in jetConstituent: \n",
    "   \n",
    "    # Check if reached max # of requested graphs \n",
    "#    if (ng > ngmax): break\n",
    "    ng += 1\n",
    "\n",
    "    # Create an Adjacency matrix using KNN algorithm\n",
    "    k=4\n",
    "\n",
    "#    adj = kneighbors_graph(constit, k, mode=\"distance\")\n",
    "    adj = kneighbors_graph(constit, k)\n",
    "    \n",
    "    '''    \n",
    "    # Define Edge freatures from adjacency matrix A\n",
    "    n = len(constit)\n",
    "    E = np.zeros((n,n))\n",
    "    for index, x in np.ndenumerate(adj.toarray()):\n",
    "        if x==0.0 : continue\n",
    "        i=index[0]\n",
    "        j=index[1]\n",
    "        deta = constit[i,0] - constit[j,0]\n",
    "        dphi = constit[i,1] - constit[j,1]\n",
    "        dpt  = constit[i,2] - constit[j,2]\n",
    "        # Define the edge weight as distance in EtaxPhi\n",
    "        etamax = max(abs(constit[i,0]),abs(constit[j,0]))\n",
    "        phimax = max(abs(constit[i,1]),abs(constit[j,1]))\n",
    "        if ( etamax==0.0 or phimax==0.0 ) : \n",
    "            dr=999999.\n",
    "        else: \n",
    "            dr=((deta/etamax)**2+(dphi/phimax)**2)  # BEST PERFORMING METRIC !!!\n",
    "#            dr=math.sqrt(deta**2+dphi**2)  # \n",
    "\n",
    "        E[i,j] = math.exp(-dr)\n",
    "#        E[i,j]=1/dr\n",
    "    '''\n",
    "\n",
    "# Append Adjacency matrix and Feature vector to list    \n",
    "    A.append(adj)\n",
    "#    A.append(E)\n",
    "    X.append(constit)\n",
    "\n",
    "\n",
    "# Define GRAPH tensors for the full dataset in BATCH MODE ( https://graphneural.network/data-modes )\n",
    "# The tensor dimensions corresponds to the maximum graph size (max # nodes) x (# features)\n",
    "ngraphs = len(jetConstituent) # Number of graphs ( number of jets )\n",
    "ntargets = 5\n",
    "\n",
    "XX = np.zeros((ngraphs, nconstit, nfeat) , dtype=np.float32) # node features \n",
    "AA = np.zeros((ngraphs, nconstit, nconstit ) , dtype=np.float32)  # adjacency matrix\n",
    "YY = np.zeros((ngraphs, ntargets) , dtype=np.float32)             # target label\n",
    "\n",
    "\n",
    "# Loop over graphs to fill the input tensors ( with event # indexed by i ) \n",
    "for i in range(ngraphs):\n",
    "  n_nodes = len(X[i])\n",
    "  XX[i, 0:nconstit, 0:nfeat] = X[i] \n",
    "  AA[i, 0:nconstit, 0:nconstit] = A[i].todense()\n",
    "#  AA[i, 0:n_nodes, 0:n_nodes] = A[i]\n",
    "  YY[i, 0:ntargets] = target[i]\n",
    "    \n",
    "del jetConstituent, target\n",
    "\n",
    "\n",
    "print(\"AA Shape = \",AA.shape)\n",
    "print(\"XX Shape = \",XX.shape)\n",
    "print(\"YY Shape = \",YY.shape)\n",
    "\n",
    "print(\"AA Shape[0] = \",AA.shape[0])\n",
    "print(\"AA Shape[1] = \",AA.shape[1])\n",
    "print(\"AA Shape[2] = \",AA.shape[2])\n",
    "\n",
    "print(\"XX Shape[0] = \",XX.shape[0])\n",
    "print(\"XX Shape[1] = \",XX.shape[1])\n",
    "print(\"XX Shape[2] = \",XX.shape[2])\n"
   ]
  },
  {
   "cell_type": "markdown",
   "metadata": {},
   "source": [
    "## Dividing the data into testing and training dataset\n",
    "\n",
    "We will split the data into two parts (one for training+validation and one for testing) "
   ]
  },
  {
   "cell_type": "code",
   "execution_count": 6,
   "metadata": {},
   "outputs": [
    {
     "name": "stdout",
     "output_type": "stream",
     "text": [
      "number of G jets for training/validation: 83689\n",
      "number of Q jets for training/validation: 80676\n",
      "number of W jets for training/validation: 83507\n",
      "number of B jets for training/validation: 83589\n",
      "number of T jets for training/validation: 83939\n",
      "number of G jets for testing: 41159\n",
      "number of Q jets for testing: 39535\n",
      "number of W jets for testing: 41430\n",
      "number of B jets for testing: 41065\n",
      "number of T jets for testing: 41411\n"
     ]
    }
   ],
   "source": [
    "from sklearn.model_selection import train_test_split\n",
    "\n",
    "X_train_val, X_test, A_train_val, A_test, Y_train_val, Y_test = train_test_split(XX, AA, YY, test_size=0.33, random_state=7)\n",
    "\n",
    "#print(X_train_val.shape, X_test.shape, A_train_val.shape, A_test.shape, Y_train_val.shape, Y_test.shape)\n",
    "\n",
    "print('number of G jets for training/validation: %i'%np.sum( np.argmax(Y_train_val, axis=1)==0 ))\n",
    "print('number of Q jets for training/validation: %i'%np.sum( np.argmax(Y_train_val, axis=1)==1 ))\n",
    "print('number of W jets for training/validation: %i'%np.sum( np.argmax(Y_train_val, axis=1)==2 ))\n",
    "print('number of B jets for training/validation: %i'%np.sum( np.argmax(Y_train_val, axis=1)==3 ))\n",
    "print('number of T jets for training/validation: %i'%np.sum( np.argmax(Y_train_val, axis=1)==4 ))\n",
    "\n",
    "\n",
    "print('number of G jets for testing: %i'%np.sum( np.argmax(Y_test, axis=1)==0 ))\n",
    "print('number of Q jets for testing: %i'%np.sum( np.argmax(Y_test, axis=1)==1 ))\n",
    "print('number of W jets for testing: %i'%np.sum( np.argmax(Y_test, axis=1)==2 ))\n",
    "print('number of B jets for testing: %i'%np.sum( np.argmax(Y_test, axis=1)==3 ))\n",
    "print('number of T jets for testing: %i'%np.sum( np.argmax(Y_test, axis=1)==4 ))\n",
    "\n",
    "\n",
    "\n"
   ]
  },
  {
   "cell_type": "markdown",
   "metadata": {
    "id": "8zFeYn6_Bn40"
   },
   "source": [
    "## Define GCN Layer\n"
   ]
  },
  {
   "cell_type": "code",
   "execution_count": 7,
   "metadata": {
    "colab": {
     "base_uri": "https://localhost:8080/"
    },
    "executionInfo": {
     "elapsed": 6350,
     "status": "ok",
     "timestamp": 1616956531619,
     "user": {
      "displayName": "Andre Sznajder",
      "photoUrl": "https://lh3.googleusercontent.com/-Bujzmul3q4w/AAAAAAAAAAI/AAAAAAAAA30/Zzdg4zcPB-8/s64/photo.jpg",
      "userId": "12562331206892861623"
     },
     "user_tz": -120
    },
    "id": "aqEAX7zIBn40",
    "outputId": "f71a892c-d086-4df8-9e11-b1116e448764"
   },
   "outputs": [],
   "source": [
    "import tensorflow as tf\n",
    "from tensorflow.keras import backend as K\n",
    "from tensorflow.keras import activations\n",
    "from tensorflow.keras.layers import Layer\n",
    "\n",
    "##########################################################################\n",
    "#\n",
    "# Customized GCNConv Layer modified from SPEKTRAL package\n",
    "# https://github.com/danielegrattarola/spektral/blob/master/spektral/layers/convolutional/gcn_conv.py\n",
    "# https://github.com/danielegrattarola/spektral/blob/master/spektral/layers/convolutional/gcs_conv.py\n",
    "#\n",
    "#########################################################################\n",
    "#\n",
    "class GCNConv(Layer):\n",
    "    \"\"\"\n",
    "    Graph Convolutional Layer with trainable skip connection ( more expressive that Kipf GCN as it \n",
    "         has flexibility for learning edge features ( AXW1 + XW2 ) )\n",
    "    \"\"\"\n",
    "\n",
    "    def __init__( self, channels, activation=None, **kwargs ):\n",
    "        super().__init__( GCNConv, **kwargs )\n",
    "        self.channels = channels\n",
    "        self.activation = activations.get(activation) \n",
    "\n",
    "    def build(self, input_shape):\n",
    "        assert len(input_shape) >= 2\n",
    "#        input_dim = input_shape[0][-1]\n",
    "        input_dim = input_shape[1][-1]\n",
    "        self.wgt = self.add_weight(\n",
    "            shape=(input_dim, self.channels),\n",
    "            name=\"wgt\"\n",
    "        )\n",
    "        self.bias = self.add_weight(\n",
    "            shape=(self.channels,),\n",
    "            name=\"bias\"\n",
    "        )\n",
    "\n",
    "    def call(self, inputs):\n",
    "        a, x = inputs\n",
    "\n",
    "#        print(\"shape a=\",a.shape)\n",
    "#        print(\"shape x=\",x.shape)        \n",
    "#        print(\"shape w=\",self.wgt.shape)\n",
    "        \n",
    "#        output = ops.modal_dot(a, output)\n",
    "#        output = K.dot(a, output)\n",
    "#        awx = K.dot(a, wx)\n",
    "        # Add identity to adjacency to create Â=A+I and take into account self-loop\n",
    "        ahat = a + np.identity(a.shape[1])\n",
    "        xw = K.dot(x, self.wgt)  \n",
    "        axw = tf.matmul(ahat, xw)\n",
    "        z = K.bias_add(axw, self.bias) \n",
    "        output = self.activation(z)\n",
    "        return output\n",
    "\n",
    "\n",
    "    def get_config(self):\n",
    "        # Implement get_config to enable serialization. This is optional.\n",
    "        base_config = super(GCNConv, self).get_config()\n",
    "        config = {\"channels\": self.channels,\n",
    "                  \"activation\":self.activation}\n",
    "        return dict(list(base_config.items()) + list(config.items()))\n"
   ]
  },
  {
   "cell_type": "code",
   "execution_count": 8,
   "metadata": {},
   "outputs": [
    {
     "name": "stdout",
     "output_type": "stream",
     "text": [
      "X type= <class 'tensorflow.python.keras.engine.keras_tensor.KerasTensor'>\n",
      "A type= <class 'tensorflow.python.keras.engine.keras_tensor.KerasTensor'>\n",
      "X shape= (None, 32, 3)\n",
      "A shape= (None, 32, 32)\n",
      "WARNING:tensorflow:AutoGraph could not transform <bound method GCNConv.call of <__main__.GCNConv object at 0x132904190>> and will run it as-is.\n",
      "Please report this to the TensorFlow team. When filing the bug, set the verbosity to 10 (on Linux, `export AUTOGRAPH_VERBOSITY=10`) and attach the full output.\n",
      "Cause: module 'gast' has no attribute 'Index'\n",
      "To silence this warning, decorate the function with @tf.autograph.experimental.do_not_convert\n",
      "WARNING: AutoGraph could not transform <bound method GCNConv.call of <__main__.GCNConv object at 0x132904190>> and will run it as-is.\n",
      "Please report this to the TensorFlow team. When filing the bug, set the verbosity to 10 (on Linux, `export AUTOGRAPH_VERBOSITY=10`) and attach the full output.\n",
      "Cause: module 'gast' has no attribute 'Index'\n",
      "To silence this warning, decorate the function with @tf.autograph.experimental.do_not_convert\n",
      "Model: \"model\"\n",
      "__________________________________________________________________________________________________\n",
      "Layer (type)                    Output Shape         Param #     Connected to                     \n",
      "==================================================================================================\n",
      "X (InputLayer)                  [(None, 32, 3)]      0                                            \n",
      "__________________________________________________________________________________________________\n",
      "A (InputLayer)                  [(None, 32, 32)]     0                                            \n",
      "__________________________________________________________________________________________________\n",
      "batchnorm_1 (BatchNormalization (None, 32, 3)        12          X[0][0]                          \n",
      "__________________________________________________________________________________________________\n",
      "gcn_conv (GCNConv)              (None, 32, 24)       96          A[0][0]                          \n",
      "                                                                 batchnorm_1[0][0]                \n",
      "__________________________________________________________________________________________________\n",
      "gcn_conv_1 (GCNConv)            (None, 32, 12)       300         A[0][0]                          \n",
      "                                                                 gcn_conv[0][0]                   \n",
      "__________________________________________________________________________________________________\n",
      "flatten (Flatten)               (None, 384)          0           gcn_conv_1[0][0]                 \n",
      "__________________________________________________________________________________________________\n",
      "dense (Dense)                   (None, 12)           4620        flatten[0][0]                    \n",
      "__________________________________________________________________________________________________\n",
      "dense_1 (Dense)                 (None, 5)            65          dense[0][0]                      \n",
      "==================================================================================================\n",
      "Total params: 5,093\n",
      "Trainable params: 5,087\n",
      "Non-trainable params: 6\n",
      "__________________________________________________________________________________________________\n"
     ]
    }
   ],
   "source": [
    "# baseline keras model\n",
    "from tensorflow import keras\n",
    "from tensorflow.keras.models import Sequential, Model\n",
    "from tensorflow.keras.optimizers import SGD, Adam, Nadam\n",
    "from tensorflow.keras.layers import Input, Activation, Dense, Dropout, Flatten , BatchNormalization, MaxPool1D\n",
    "from tensorflow.keras import utils\n",
    "\n",
    "# Define GCN network \n",
    "\n",
    "# Instantiate Tensorflow input tensors in Batch mode \n",
    "X = Input(shape=(nconstit, nfeat), name=\"X\")\n",
    "A = Input(shape=(nconstit, nconstit), sparse=False, name=\"A\") \n",
    "\n",
    "print(\"X type=\",type(X))\n",
    "print(\"A type=\",type(A))\n",
    "print(\"X shape=\",X.shape)\n",
    "print(\"A shape=\",A.shape)\n",
    "\n",
    "\n",
    "# GCN Model  ( sem Maxpool )\n",
    "H = BatchNormalization(momentum=0.1,name='batchnorm_1')(X)\n",
    "H = GCNConv(channels=nfeat*8, activation=\"relu\")([A,H])\n",
    "H = GCNConv(channels=nfeat*4, activation=\"relu\")([A,H])\n",
    "H = Flatten()(H)\n",
    "H = Dense(int(nconstit*nfeat/8), activation=\"relu\")(H)\n",
    "\n",
    "'''\n",
    "# GCN Model ( com Maxpool )\n",
    "H = BatchNormalization(momentum=0.1,name='batchnorm_1')(X)\n",
    "H = GCNConv(channels=nfeat*8, activation=\"relu\")([A,H])\n",
    "H = GCNConv(channels=nfeat*4, activation=\"relu\")([A,H])\n",
    "#H = MaxPool1D(pool_size=8, strides=4, padding='valid', name='maxpool1d_1')(H)\n",
    "H = MaxPool1D(pool_size=6, strides=3, padding='valid', name='maxpool1d_1')(H)\n",
    "H = Flatten()(H)\n",
    "H = Dense(int(nconstit*nfeat/2), activation=\"relu\")(H)\n",
    "'''\n",
    "O = Dense(ntargets, activation=\"softmax\") (H)\n",
    "\n",
    "# Build the GCN model\n",
    "model = Model(inputs=[A,X], outputs=O)\n",
    "\n",
    "# Define the optimizer ( minimization algorithm )\n",
    "#optim = SGD(lr=0.0001,decay=1e-6)\n",
    "optim = Adam(lr=0.0005)\n",
    "#optim = Nadam(lr=0.0005)\n",
    "\n",
    "# Compile the Model\n",
    "#model.compile(optimizer=optim, loss='categorical_crossentropy', metrics=['accuracy'])\n",
    "model.compile(optimizer=optim, loss='categorical_crossentropy', metrics=['categorical_accuracy'])\n",
    "\n",
    "# print the model summary\n",
    "model.summary()\n"
   ]
  },
  {
   "cell_type": "markdown",
   "metadata": {
    "id": "YlDvqPkIBn48"
   },
   "source": [
    "## Run training\n",
    "Here, we run the training."
   ]
  },
  {
   "cell_type": "code",
   "execution_count": 9,
   "metadata": {
    "colab": {
     "base_uri": "https://localhost:8080/"
    },
    "executionInfo": {
     "elapsed": 9682,
     "status": "ok",
     "timestamp": 1616956534957,
     "user": {
      "displayName": "Andre Sznajder",
      "photoUrl": "https://lh3.googleusercontent.com/-Bujzmul3q4w/AAAAAAAAAAI/AAAAAAAAA30/Zzdg4zcPB-8/s64/photo.jpg",
      "userId": "12562331206892861623"
     },
     "user_tz": -120
    },
    "id": "p3lHpPv-Bn49",
    "outputId": "252bb588-0b97-49ce-c444-60926c01c2f8"
   },
   "outputs": [
    {
     "name": "stdout",
     "output_type": "stream",
     "text": [
      "WARNING:tensorflow:`period` argument is deprecated. Please use `save_freq` to specify the frequency in number of batches seen.\n",
      "Epoch 1/50\n",
      "568/568 [==============================] - 7s 11ms/step - loss: 1.8325 - categorical_accuracy: 0.2835 - val_loss: 1.3342 - val_categorical_accuracy: 0.4400\n",
      "Epoch 2/50\n",
      "568/568 [==============================] - 5s 10ms/step - loss: 1.2899 - categorical_accuracy: 0.4637 - val_loss: 1.2046 - val_categorical_accuracy: 0.4991\n",
      "Epoch 3/50\n",
      "568/568 [==============================] - 6s 10ms/step - loss: 1.1864 - categorical_accuracy: 0.5069 - val_loss: 1.1633 - val_categorical_accuracy: 0.5209\n",
      "Epoch 4/50\n",
      "568/568 [==============================] - 6s 10ms/step - loss: 1.1459 - categorical_accuracy: 0.5252 - val_loss: 1.1289 - val_categorical_accuracy: 0.5333\n",
      "Epoch 5/50\n",
      "568/568 [==============================] - 5s 10ms/step - loss: 1.1242 - categorical_accuracy: 0.5330 - val_loss: 1.1104 - val_categorical_accuracy: 0.5408\n",
      "Epoch 6/50\n",
      "568/568 [==============================] - 5s 10ms/step - loss: 1.1070 - categorical_accuracy: 0.5420 - val_loss: 1.1135 - val_categorical_accuracy: 0.5395\n",
      "Epoch 7/50\n",
      "568/568 [==============================] - 5s 10ms/step - loss: 1.0979 - categorical_accuracy: 0.5464 - val_loss: 1.0959 - val_categorical_accuracy: 0.5497\n",
      "Epoch 8/50\n",
      "568/568 [==============================] - 6s 10ms/step - loss: 1.0903 - categorical_accuracy: 0.5502 - val_loss: 1.1050 - val_categorical_accuracy: 0.5448\n",
      "Epoch 9/50\n",
      "568/568 [==============================] - 6s 10ms/step - loss: 1.0856 - categorical_accuracy: 0.5495 - val_loss: 1.0855 - val_categorical_accuracy: 0.5530\n",
      "Epoch 10/50\n",
      "568/568 [==============================] - 5s 10ms/step - loss: 1.0815 - categorical_accuracy: 0.5538 - val_loss: 1.0841 - val_categorical_accuracy: 0.5558\n",
      "Epoch 11/50\n",
      "568/568 [==============================] - 5s 10ms/step - loss: 1.0782 - categorical_accuracy: 0.5540 - val_loss: 1.0934 - val_categorical_accuracy: 0.5475\n",
      "Epoch 12/50\n",
      "568/568 [==============================] - 5s 10ms/step - loss: 1.0763 - categorical_accuracy: 0.5544 - val_loss: 1.0882 - val_categorical_accuracy: 0.5510\n",
      "Epoch 13/50\n",
      "568/568 [==============================] - 6s 10ms/step - loss: 1.0785 - categorical_accuracy: 0.5542 - val_loss: 1.0723 - val_categorical_accuracy: 0.5582\n",
      "Epoch 14/50\n",
      "568/568 [==============================] - 6s 10ms/step - loss: 1.0670 - categorical_accuracy: 0.5584 - val_loss: 1.0651 - val_categorical_accuracy: 0.5615\n",
      "Epoch 15/50\n",
      "568/568 [==============================] - 6s 10ms/step - loss: 1.0645 - categorical_accuracy: 0.5600 - val_loss: 1.0737 - val_categorical_accuracy: 0.5581\n",
      "Epoch 16/50\n",
      "568/568 [==============================] - 6s 10ms/step - loss: 1.0638 - categorical_accuracy: 0.5614 - val_loss: 1.0745 - val_categorical_accuracy: 0.5569\n",
      "Epoch 17/50\n",
      "568/568 [==============================] - 6s 10ms/step - loss: 1.0636 - categorical_accuracy: 0.5604 - val_loss: 1.0614 - val_categorical_accuracy: 0.5636\n",
      "Epoch 18/50\n",
      "568/568 [==============================] - 5s 10ms/step - loss: 1.0603 - categorical_accuracy: 0.5614 - val_loss: 1.0666 - val_categorical_accuracy: 0.5623\n",
      "Epoch 19/50\n",
      "568/568 [==============================] - 5s 10ms/step - loss: 1.0573 - categorical_accuracy: 0.5635 - val_loss: 1.0659 - val_categorical_accuracy: 0.5608\n",
      "Epoch 20/50\n",
      "568/568 [==============================] - 6s 10ms/step - loss: 1.0559 - categorical_accuracy: 0.5638 - val_loss: 1.0578 - val_categorical_accuracy: 0.5651\n",
      "Epoch 21/50\n",
      "568/568 [==============================] - 6s 10ms/step - loss: 1.0558 - categorical_accuracy: 0.5625 - val_loss: 1.0620 - val_categorical_accuracy: 0.5639\n",
      "Epoch 22/50\n",
      "568/568 [==============================] - 6s 10ms/step - loss: 1.0547 - categorical_accuracy: 0.5646 - val_loss: 1.0625 - val_categorical_accuracy: 0.5624\n",
      "Epoch 23/50\n",
      "568/568 [==============================] - 6s 10ms/step - loss: 1.0537 - categorical_accuracy: 0.5651 - val_loss: 1.0532 - val_categorical_accuracy: 0.5658\n",
      "Epoch 24/50\n",
      "568/568 [==============================] - 5s 10ms/step - loss: 1.0541 - categorical_accuracy: 0.5647 - val_loss: 1.0557 - val_categorical_accuracy: 0.5652\n",
      "Epoch 25/50\n",
      "568/568 [==============================] - 5s 10ms/step - loss: 1.0560 - categorical_accuracy: 0.5625 - val_loss: 1.0581 - val_categorical_accuracy: 0.5639\n",
      "Epoch 26/50\n",
      "568/568 [==============================] - 6s 10ms/step - loss: 1.0546 - categorical_accuracy: 0.5641 - val_loss: 1.0531 - val_categorical_accuracy: 0.5643\n",
      "Epoch 27/50\n",
      "568/568 [==============================] - 6s 10ms/step - loss: 1.0511 - categorical_accuracy: 0.5672 - val_loss: 1.0595 - val_categorical_accuracy: 0.5636\n",
      "Epoch 28/50\n",
      "568/568 [==============================] - 5s 10ms/step - loss: 1.0498 - categorical_accuracy: 0.5661 - val_loss: 1.0657 - val_categorical_accuracy: 0.5614\n"
     ]
    }
   ],
   "source": [
    "from tensorflow.keras.callbacks import EarlyStopping, ModelCheckpoint, ReduceLROnPlateau, TensorBoard\n",
    "\n",
    "# early stopping callback\n",
    "es = EarlyStopping(monitor='val_categorical_accuracy', patience=5)\n",
    "\n",
    "# Learning rate scheduler \n",
    "ls = ReduceLROnPlateau(monitor='val_categorical_accuracy', factor=0.5, patience=5)\n",
    "\n",
    "# model checkpoint callback\n",
    "# this saves our model architecture + parameters into mlp_model.h5\n",
    "chkp = ModelCheckpoint('mlp_model.h5', monitor='categorical_accuracy', \n",
    "                                   verbose=0, save_best_only=True, \n",
    "                                   save_weights_only=False, mode='auto', \n",
    "                                   period=1)\n",
    "\n",
    "#tb = TensorBoard(\"/Users/sznajder/WorkM1/miniforge3/tensorflow_macos/arm64/workdir/logs\")\n",
    "\n",
    "# Train classifier\n",
    "history = model.fit(  [A_train_val, X_train_val] , Y_train_val, \n",
    "                    epochs=50, \n",
    "                    batch_size=512, \n",
    "                    verbose=1,\n",
    "                    callbacks=[es,ls], \n",
    "                    validation_split=0.3 )\n",
    "                    \n",
    "#                    callbacks=[early_stopping, model_checkpoint], \n",
    "                    "
   ]
  },
  {
   "cell_type": "markdown",
   "metadata": {
    "id": "np12nLtsBn5A"
   },
   "source": [
    "## Plot performance\n",
    "Here, we plot the history of the training and the performance in a ROC curve"
   ]
  },
  {
   "cell_type": "code",
   "execution_count": 10,
   "metadata": {
    "colab": {
     "base_uri": "https://localhost:8080/",
     "height": 605
    },
    "executionInfo": {
     "elapsed": 10466,
     "status": "ok",
     "timestamp": 1616956535743,
     "user": {
      "displayName": "Andre Sznajder",
      "photoUrl": "https://lh3.googleusercontent.com/-Bujzmul3q4w/AAAAAAAAAAI/AAAAAAAAA30/Zzdg4zcPB-8/s64/photo.jpg",
      "userId": "12562331206892861623"
     },
     "user_tz": -120
    },
    "id": "Z_dscosMBn5B",
    "outputId": "6f9f7a67-1607-42ab-a9f8-5635b360eaec"
   },
   "outputs": [
    {
     "data": {
      "image/png": "[encoded data removed]",
      "text/plain": [
       "<Figure size 1080x720 with 4 Axes>"
      ]
     },
     "metadata": {
      "needs_background": "light"
     },
     "output_type": "display_data"
    }
   ],
   "source": [
    "from sklearn.metrics import roc_curve, auc\n",
    "import matplotlib.pyplot as plt\n",
    "\n",
    "\n",
    "#plt.rcParams['axes.unicode_minus'] = False\n",
    "\n",
    "# Plot loss vs epoch\n",
    "plt.figure(figsize=(15,10))\n",
    "ax = plt.subplot(2, 2, 1)\n",
    "ax.plot(history.history['loss'], label='loss')\n",
    "ax.plot(history.history['val_loss'], label='val loss')\n",
    "ax.legend(loc=\"upper right\")\n",
    "ax.set_xlabel('epoch')\n",
    "ax.set_ylabel('loss')\n",
    "\n",
    "# Plot accuracy vs epoch\n",
    "ax = plt.subplot(2, 2, 2)\n",
    "#ax.plot(history.history['accuracy'], label='accuracy')\n",
    "#ax.plot(history.history['val_accuracy'], label='val accuracy')\n",
    "ax.plot(history.history['categorical_accuracy'], label='categorical_accuracy')\n",
    "ax.plot(history.history['val_categorical_accuracy'], label='val categorical accuracy')\n",
    "ax.legend(loc=\"upper left\")\n",
    "ax.set_xlabel('epoch')\n",
    "ax.set_ylabel('acc')\n",
    "\n",
    "'''\n",
    "# Plot ROC\n",
    "Y_predict = mlp.predict([A_test,X_test])\n",
    "fpr, tpr, thresholds = roc_curve(Y_test, Y_predict)\n",
    "roc_auc = auc(fpr, tpr)\n",
    "ax = plt.subplot(2, 2, 3)\n",
    "ax.plot(fpr, tpr, lw=2, color='cyan', label='auc = %.3f' % (roc_auc))\n",
    "ax.plot([0, 1], [0, 1], linestyle='--', lw=2, color='k', label='random chance')\n",
    "ax.set_xlim([0, 1.0])\n",
    "ax.set_ylim([0, 1.0])\n",
    "ax.set_xlabel('false positive rate')\n",
    "ax.set_ylabel('true positive rate')\n",
    "ax.set_title('receiver operating curve')\n",
    "ax.legend(loc=\"lower right\")\n",
    "'''\n",
    "\n",
    "# Plot the ROC curves\n",
    "labels = ['gluon', 'quark', 'W', 'Z', 'top']\n",
    "fpr = {}\n",
    "tpr = {}\n",
    "auc1 = {}\n",
    "ax = plt.subplot(2, 2, 3)\n",
    "Y_predict = model.predict([A_test,X_test])\n",
    "for i, label in enumerate(labels):\n",
    "        fpr[label], tpr[label], threshold = roc_curve(Y_test[:,i], Y_predict[:,i])\n",
    "        auc1[label] = auc(fpr[label], tpr[label])\n",
    "        ax.plot(tpr[label],fpr[label],label='%s tagger, auc = %.1f%%'%(label,auc1[label]*100.))\n",
    "ax.semilogy()\n",
    "ax.set_xlabel(\"sig. efficiency\")\n",
    "ax.set_ylabel(\"bkg. mistag rate\")\n",
    "ax.set_ylim(0.001,1)\n",
    "#ax.set_grid(True)\n",
    "ax.legend(loc='lower right')\n",
    "#plt.savefig('%s/ROC.pdf'%(options.outputDir))\n",
    "\n",
    "\n",
    "\n",
    "# Plot DNN output \n",
    "ax = plt.subplot(2, 2, 4)\n",
    "X = np.linspace(0.0, 1.0, 20)\n",
    "hist={}\n",
    "for i, name in enumerate(labels):\n",
    "    hist[name] = ax.hist(Y_predict, bins=X, label=name ,histtype='step')\n",
    "ax.semilogy()\n",
    "ax.set_xlabel('DNN Output')\n",
    "ax.legend(prop={'size': 10})\n",
    "ax.legend(loc='lower left')\n",
    "# Display plots\n",
    "plt.show()\n"
   ]
  },
  {
   "cell_type": "code",
   "execution_count": null,
   "metadata": {},
   "outputs": [],
   "source": []
  },
  {
   "cell_type": "code",
   "execution_count": null,
   "metadata": {},
   "outputs": [],
   "source": []
  }
 ],
 "metadata": {
  "accelerator": "GPU",
  "colab": {
   "collapsed_sections": [],
   "name": "JetTagging_MLP_TFKeras.ipynb",
   "provenance": [
    {
     "file_id": "1_LtW5Af1ruCzp6IH18NNj2K3Vbgqto-F",
     "timestamp": 1613800914899
    },
    {
     "file_id": "https://github.com/thongonary/machine_learning_vbscan/blob/master/5-conv2d.ipynb",
     "timestamp": 1551264063701
    }
   ]
  },
  "kernelspec": {
   "display_name": "Python 3",
   "language": "python",
   "name": "python3"
  },
  "language_info": {
   "codemirror_mode": {
    "name": "ipython",
    "version": 3
   },
   "file_extension": ".py",
   "mimetype": "text/x-python",
   "name": "python",
   "nbconvert_exporter": "python",
   "pygments_lexer": "ipython3",
   "version": "3.8.10"
  }
 },
 "nbformat": 4,
 "nbformat_minor": 4
}
