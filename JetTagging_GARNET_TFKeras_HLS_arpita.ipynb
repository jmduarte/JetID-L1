{
 "cells": [
  {
   "cell_type": "markdown",
   "metadata": {
    "id": "JK0wr2onBn4d"
   },
   "source": [
    "# GARNET for Jet-Images from Arpita \n",
    "## "
   ]
  },
  {
   "cell_type": "code",
   "execution_count": 1,
   "metadata": {
    "colab": {
     "base_uri": "https://localhost:8080/"
    },
    "executionInfo": {
     "elapsed": 3006,
     "status": "ok",
     "timestamp": 1616956528247,
     "user": {
      "displayName": "Andre Sznajder",
      "photoUrl": "https://lh3.googleusercontent.com/-Bujzmul3q4w/AAAAAAAAAAI/AAAAAAAAA30/Zzdg4zcPB-8/s64/photo.jpg",
      "userId": "12562331206892861623"
     },
     "user_tz": -120
    },
    "id": "WrNOdwasBsHc",
    "outputId": "403bd6fb-ede6-43c8-9cf7-235cccf77806"
   },
   "outputs": [],
   "source": [
    "#!fusermount -u drive\n",
    "#! pip install einops"
   ]
  },
  {
   "cell_type": "code",
   "execution_count": 2,
   "metadata": {
    "colab": {
     "base_uri": "https://localhost:8080/"
    },
    "executionInfo": {
     "elapsed": 3272,
     "status": "ok",
     "timestamp": 1616956528520,
     "user": {
      "displayName": "Andre Sznajder",
      "photoUrl": "https://lh3.googleusercontent.com/-Bujzmul3q4w/AAAAAAAAAAI/AAAAAAAAA30/Zzdg4zcPB-8/s64/photo.jpg",
      "userId": "12562331206892861623"
     },
     "user_tz": -120
    },
    "id": "MhGGIDIvBu2V",
    "outputId": "20e67e9a-104e-4ce2-ac75-540ae8e1f459"
   },
   "outputs": [],
   "source": [
    "#from google.colab import drive\n",
    "#drive.mount('/content/gdrive', force_remount=True)\n",
    "#data_dir = '/content/gdrive/My Drive/Colab Notebooks/Data/'\n",
    "data_dir = '/Users/sznajder/cernbox/WorkM1/tensorflow_macos/arm64/workdir/data/hls4ml_LHCjet_150p_val/'"
   ]
  },
  {
   "cell_type": "markdown",
   "metadata": {
    "id": "TxGwUjLmBn4f"
   },
   "source": [
    "# Load HLS4ML dataset \n",
    "\n",
    "## Here, we load the numpy arrays containing the 4D tensors of \"jet-images\" (see https://arxiv.org/pdf/1511.05190.pdf)\n",
    "\n",
    "## https://github.com/pierinim/tutorials/blob/master/GGI_Jan2021/Lecture1/Notebook1_ExploreDataset.ipynb\n",
    "\n",
    " * 'jetImage' contains the image representation of the jets (more later)\n",
    "\n",
    " * 'jetImageECAL' and 'jetImageHCAL' are the ECAL- and HCAL-only equivalent images. We will not use them (but you are more than welcome to play with it)\n",
    "\n",
    " * 'jetConstituentList' is the list of particles cointained in the jet. For each particle, a list of relevant quantities is stored\n",
    "\n",
    " * 'particleFeatureNames' is the list of the names corresponding to the quantities contained in 'jetConstituentList' 'jets' is the dataset we consider for the moment\n",
    "\n",
    " * 'jetFeatureNames' is the list of the names corresponding to the quantities contained in 'jets'\n"
   ]
  },
  {
   "cell_type": "code",
   "execution_count": 3,
   "metadata": {
    "executionInfo": {
     "elapsed": 3269,
     "status": "ok",
     "timestamp": 1616956528521,
     "user": {
      "displayName": "Andre Sznajder",
      "photoUrl": "https://lh3.googleusercontent.com/-Bujzmul3q4w/AAAAAAAAAAI/AAAAAAAAA30/Zzdg4zcPB-8/s64/photo.jpg",
      "userId": "12562331206892861623"
     },
     "user_tz": -120
    },
    "id": "TcXokNduBn4g"
   },
   "outputs": [
    {
     "name": "stdout",
     "output_type": "stream",
     "text": [
      "Appending jetImage_6_150p_40000_50000.h5\n",
      "Keys in H5PY files =  ['jetConstituentList', 'jetFeatureNames', 'jetImage', 'jetImageECAL', 'jetImageHCAL', 'jets', 'particleFeatureNames']\n",
      " \n",
      "Jets Features =  [b'j_ptfrac' b'j_pt' b'j_eta' b'j_mass' b'j_tau1_b1' b'j_tau2_b1'\n",
      " b'j_tau3_b1' b'j_tau1_b2' b'j_tau2_b2' b'j_tau3_b2' b'j_tau32_b1'\n",
      " b'j_tau32_b2' b'j_zlogz' b'j_c1_b0' b'j_c1_b1' b'j_c1_b2' b'j_c2_b1'\n",
      " b'j_c2_b2' b'j_d2_b1' b'j_d2_b2' b'j_d2_a1_b1' b'j_d2_a1_b2' b'j_m2_b1'\n",
      " b'j_m2_b2' b'j_n2_b1' b'j_n2_b2' b'j_tau1_b1_mmdt' b'j_tau2_b1_mmdt'\n",
      " b'j_tau3_b1_mmdt' b'j_tau1_b2_mmdt' b'j_tau2_b2_mmdt' b'j_tau3_b2_mmdt'\n",
      " b'j_tau32_b1_mmdt' b'j_tau32_b2_mmdt' b'j_c1_b0_mmdt' b'j_c1_b1_mmdt'\n",
      " b'j_c1_b2_mmdt' b'j_c2_b1_mmdt' b'j_c2_b2_mmdt' b'j_d2_b1_mmdt'\n",
      " b'j_d2_b2_mmdt' b'j_d2_a1_b1_mmdt' b'j_d2_a1_b2_mmdt' b'j_m2_b1_mmdt'\n",
      " b'j_m2_b2_mmdt' b'j_n2_b1_mmdt' b'j_n2_b2_mmdt' b'j_mass_trim'\n",
      " b'j_mass_mmdt' b'j_mass_prun' b'j_mass_sdb2' b'j_mass_sdm1'\n",
      " b'j_multiplicity' b'j_g' b'j_q' b'j_w' b'j_z' b'j_t' b'j_undef']\n",
      " \n",
      "Jet Constituents Features =  [b'j1_px' b'j1_py' b'j1_pz' b'j1_e' b'j1_erel' b'j1_pt' b'j1_ptrel'\n",
      " b'j1_eta' b'j1_etarel' b'j1_etarot' b'j1_phi' b'j1_phirel' b'j1_phirot'\n",
      " b'j1_deltaR' b'j1_costheta' b'j1_costhetarel' b'j1_pdgid']\n",
      " \n",
      "Jet Images =  [[[0. 0. 0. ... 0. 0. 0.]\n",
      "  [0. 0. 0. ... 0. 0. 0.]\n",
      "  [0. 0. 0. ... 0. 0. 0.]\n",
      "  ...\n",
      "  [0. 0. 0. ... 0. 0. 0.]\n",
      "  [0. 0. 0. ... 0. 0. 0.]\n",
      "  [0. 0. 0. ... 0. 0. 0.]]\n",
      "\n",
      " [[0. 0. 0. ... 0. 0. 0.]\n",
      "  [0. 0. 0. ... 0. 0. 0.]\n",
      "  [0. 0. 0. ... 0. 0. 0.]\n",
      "  ...\n",
      "  [0. 0. 0. ... 0. 0. 0.]\n",
      "  [0. 0. 0. ... 0. 0. 0.]\n",
      "  [0. 0. 0. ... 0. 0. 0.]]\n",
      "\n",
      " [[0. 0. 0. ... 0. 0. 0.]\n",
      "  [0. 0. 0. ... 0. 0. 0.]\n",
      "  [0. 0. 0. ... 0. 0. 0.]\n",
      "  ...\n",
      "  [0. 0. 0. ... 0. 0. 0.]\n",
      "  [0. 0. 0. ... 0. 0. 0.]\n",
      "  [0. 0. 0. ... 0. 0. 0.]]\n",
      "\n",
      " ...\n",
      "\n",
      " [[0. 0. 0. ... 0. 0. 0.]\n",
      "  [0. 0. 0. ... 0. 0. 0.]\n",
      "  [0. 0. 0. ... 0. 0. 0.]\n",
      "  ...\n",
      "  [0. 0. 0. ... 0. 0. 0.]\n",
      "  [0. 0. 0. ... 0. 0. 0.]\n",
      "  [0. 0. 0. ... 0. 0. 0.]]\n",
      "\n",
      " [[0. 0. 0. ... 0. 0. 0.]\n",
      "  [0. 0. 0. ... 0. 0. 0.]\n",
      "  [0. 0. 0. ... 0. 0. 0.]\n",
      "  ...\n",
      "  [0. 0. 0. ... 0. 0. 0.]\n",
      "  [0. 0. 0. ... 0. 0. 0.]\n",
      "  [0. 0. 0. ... 0. 0. 0.]]\n",
      "\n",
      " [[0. 0. 0. ... 0. 0. 0.]\n",
      "  [0. 0. 0. ... 0. 0. 0.]\n",
      "  [0. 0. 0. ... 0. 0. 0.]\n",
      "  ...\n",
      "  [0. 0. 0. ... 0. 0. 0.]\n",
      "  [0. 0. 0. ... 0. 0. 0.]\n",
      "  [0. 0. 0. ... 0. 0. 0.]]]\n",
      "Jet Image Shape =  (10000, 100, 100)\n",
      " \n",
      "Appending jetImage_3_150p_10000_20000.h5\n",
      "Appending jetImage_2_150p_10000_20000.h5\n",
      "Appending jetImage_1_150p_10000_20000.h5\n",
      "Appending jetImage_4_150p_40000_50000.h5\n",
      "Appending jetImage_4_150p_0_10000.h5\n",
      "Appending jetImage_5_150p_40000_50000.h5\n",
      "Appending jetImage_0_150p_10000_20000.h5\n",
      "Appending jetImage_6_150p_10000_20000.h5\n",
      "Appending jetImage_3_150p_0_10000.h5\n",
      "Appending jetImage_3_150p_40000_50000.h5\n",
      "Appending jetImage_2_150p_40000_50000.h5\n",
      "Appending jetImage_1_150p_40000_50000.h5\n",
      "Appending jetImage_4_150p_10000_20000.h5\n",
      "Appending jetImage_5_150p_10000_20000.h5\n",
      "Appending jetImage_0_150p_40000_50000.h5\n",
      "Appending jetImage_2_150p_0_10000.h5\n",
      "Appending jetImage_4_150p_80000_90000.h5\n",
      "Appending jetImage_1_150p_20000_30000.h5\n",
      "Appending jetImage_4_150p_70000_80000.h5\n",
      "Appending jetImage_0_150p_20000_30000.h5\n",
      "Appending jetImage_5_150p_80000_90000.h5\n",
      "Appending jetImage_5_150p_70000_80000.h5\n",
      "Appending jetImage_6_150p_70000_80000.h5\n",
      "Appending jetImage_3_150p_20000_30000.h5\n",
      "Appending jetImage_6_150p_80000_90000.h5\n",
      "Appending jetImage_2_150p_20000_30000.h5\n",
      "Appending jetImage_1_150p_70000_80000.h5\n",
      "Appending jetImage_4_150p_20000_30000.h5\n",
      "Appending jetImage_1_150p_80000_90000.h5\n",
      "Appending jetImage_0_150p_70000_80000.h5\n",
      "Appending jetImage_0_150p_80000_90000.h5\n",
      "Appending jetImage_5_150p_20000_30000.h5\n",
      "Appending jetImage_3_150p_80000_90000.h5\n",
      "Appending jetImage_6_150p_20000_30000.h5\n",
      "Appending jetImage_3_150p_70000_80000.h5\n",
      "Appending jetImage_2_150p_80000_90000.h5\n",
      "Appending jetImage_5_150p_0_10000.h5\n",
      "Appending jetImage_2_150p_70000_80000.h5\n",
      "Appending jetImage_5_150p_30000_40000.h5\n",
      "Appending jetImage_6_150p_50000_60000.h5\n",
      "Appending jetImage_0_150p_0_10000.h5\n",
      "Appending jetImage_4_150p_30000_40000.h5\n",
      "Appending jetImage_4_150p_50000_60000.h5\n",
      "Appending jetImage_6_150p_30000_40000.h5\n",
      "Appending jetImage_5_150p_50000_60000.h5\n",
      "Appending jetImage_0_150p_30000_40000.h5\n",
      "Appending jetImage_1_150p_30000_40000.h5\n",
      "Appending jetImage_2_150p_50000_60000.h5\n",
      "Appending jetImage_2_150p_30000_40000.h5\n",
      "Appending jetImage_1_150p_50000_60000.h5\n",
      "Appending jetImage_0_150p_50000_60000.h5\n",
      "Appending jetImage_3_150p_30000_40000.h5\n",
      "Appending jetImage_4_150p_60000_70000.h5\n",
      "Appending jetImage_5_150p_60000_70000.h5\n",
      "Appending jetImage_6_150p_60000_70000.h5\n",
      "Appending jetImage_6_150p_0_10000.h5\n",
      "Appending jetImage_1_150p_60000_70000.h5\n",
      "Appending jetImage_0_150p_60000_70000.h5\n",
      "Appending jetImage_1_150p_0_10000.h5\n",
      "Appending jetImage_3_150p_60000_70000.h5\n",
      "Appending jetImage_2_150p_60000_70000.h5\n",
      "Target shape = (620000, 5)\n",
      "Jet Constituents list shape = (620000, 150, 3)\n"
     ]
    }
   ],
   "source": [
    "import numpy as np\n",
    "import h5py\n",
    "import os\n",
    "\n",
    "#Data PATH\n",
    "TRAIN_PATH = '/Users/sznajder/WorkM1/workdir/data/hls4ml_LHCjet_150p_train/'\n",
    "\n",
    "# Prepare the DATA\n",
    "#target = np.array([])\n",
    "#jetConstituent = np.array([])\n",
    "#jetImage = np.array([])\n",
    "\n",
    "first=True\n",
    "for file in os.listdir(TRAIN_PATH):\n",
    "  print(\"Appending %s\" %file)\n",
    "\n",
    "  with h5py.File(TRAIN_PATH+file, 'r') as data:\n",
    "    if first : \n",
    "        first=False\n",
    "        jetConstituent = data['jetConstituentList'][:,:,[5,8,11]]  # \n",
    "#        jetImage= data['jetImage'][:,:,:] \n",
    "        target = data['jets'][:,-6:-1]\n",
    "    \n",
    "        print(\"Keys in H5PY files = \",list( data.keys() ))\n",
    "        print(\" \")\n",
    "        featurenames = data.get('jetFeatureNames')\n",
    "        print(\"Jets Features = \",featurenames[:])\n",
    "        # the b is due to the byte vs utf-8 encoding of the strings in the dataset\n",
    "        # just ignore them for the moment\n",
    "        print(\" \")\n",
    "        featurenames = data.get('particleFeatureNames')\n",
    "        print(\"Jet Constituents Features = \",featurenames[:])\n",
    "        print(\" \")\n",
    "        images = data.get('jetImage')\n",
    "        print(\"Jet Images = \",images[:])        \n",
    "        print(\"Jet Image Shape = \",images.shape)   \n",
    "        print(\" \")\n",
    "\n",
    "    else:\n",
    "         # Read (Pt,Etarel,Phirel)\n",
    "        jetConstituent = np.concatenate( [ jetConstituent, data['jetConstituentList'][:,:,[5,8,11]] ] , axis=0 )\n",
    "         # Read (Pt,Eta,Phi)\n",
    "#        jetConstituent = np.concatenate( [ jetConstituent, data['jetConstituentList'][:,:,[5,7,10]] ] , axis=0 )\n",
    "#        jetImage = np.concatenate( [ jetImage, data['jetImage']    ] , axis=0 )\n",
    "        target   = np.concatenate( [ target, data['jets'][:,-6:-1] ] , axis=0 )\n",
    "\n",
    "\n",
    "\n",
    "\n",
    "print(\"Target shape =\", target.shape)\n",
    "print(\"Jet Constituents list shape =\", jetConstituent.shape)\n"
   ]
  },
  {
   "cell_type": "markdown",
   "metadata": {},
   "source": [
    "# The ground truth is incorporated in the ['g', 'q', 'w', 'z', 't'] vector of boolean, taking the form\n",
    " \n",
    "## [1, 0, 0, 0, 0] for gluons\n",
    " \n",
    "## [0, 1, 0, 0, 0] for quarks\n",
    " \n",
    "## [0, 0, 1, 0, 0] for Ws\n",
    " \n",
    "## [0, 0, 0, 1, 0] for Zs\n",
    " \n",
    "## [0, 0, 0, 0, 1] for tops\n",
    "\n",
    "## This is what is called 'one-hot' encoding of a descrete label (typical of ground truth for classification problems)\n",
    "\n"
   ]
  },
  {
   "cell_type": "code",
   "execution_count": 4,
   "metadata": {
    "colab": {
     "base_uri": "https://localhost:8080/"
    },
    "executionInfo": {
     "elapsed": 3265,
     "status": "ok",
     "timestamp": 1616956528521,
     "user": {
      "displayName": "Andre Sznajder",
      "photoUrl": "https://lh3.googleusercontent.com/-Bujzmul3q4w/AAAAAAAAAAI/AAAAAAAAA30/Zzdg4zcPB-8/s64/photo.jpg",
      "userId": "12562331206892861623"
     },
     "user_tz": -120
    },
    "id": "YAJhuubTBn4k",
    "outputId": "8dc7af15-bbc1-4421-861a-72dee1979a30"
   },
   "outputs": [
    {
     "name": "stdout",
     "output_type": "stream",
     "text": [
      "Shape of jetConstituent = (620000, 150, 3)\n",
      "Number of jets = 620000\n",
      "Number of constituents = 150\n",
      "Number of features = 3\n",
      "Number of jets = 620000\n",
      "Number of constituents = 8\n",
      "Number of features = 3\n"
     ]
    }
   ],
   "source": [
    "from einops import rearrange, reduce, repeat\n",
    "\n",
    "# Convert target format from one-hot encoding to single neuron\n",
    "#target = np.argmax(target, axis=1)\n",
    "\n",
    "# 1st dim is jet image index\n",
    "# 2nd dim is image eta bin\n",
    "# 3rd dim is image phi bin\n",
    "njet = jetConstituent.shape[0]\n",
    "nconstit = jetConstituent.shape[1]\n",
    "nfeat = jetConstituent.shape[2]\n",
    "\n",
    "print('Shape of jetConstituent =',jetConstituent.shape)\n",
    "print('Number of jets =',njet)\n",
    "print('Number of constituents =',nconstit)\n",
    "print('Number of features =',nfeat)\n",
    "\n",
    "# Filter out constituents with Pt<2GeV\n",
    "Ptmin =2. \n",
    "constituents = np.zeros((njet, nconstit, nfeat) , dtype=np.float32) \n",
    "ij=0\n",
    "max_constit=0\n",
    "for j in range(njet):\n",
    "    ic=0\n",
    "    for c in range(nconstit):\n",
    "        if ( jetConstituent[j,c,0] < Ptmin ):\n",
    "            continue\n",
    "        constituents[ij,ic,:] = jetConstituent[j,c,:] \n",
    "        ic+=1\n",
    "    if (ic > 0):\n",
    "        if ic > max_constit: max_constit=ic\n",
    "        target[ij,:]=target[j,:] # assosicate the correct target a given graph \n",
    "        ij+=1\n",
    "\n",
    "\n",
    "# Resizes the jets constituents and target arrays        \n",
    "jetConstituent = constituents[0:ij,0:max_constit,:]\n",
    "target = target[0:ij,:]\n",
    "\n",
    "\n",
    "# Restric the number of constituents to a maximum of NMAX\n",
    "nmax = 8\n",
    "jetConstituent = jetConstituent[:,0:nmax,:]\n",
    "\n",
    "# The dataset is N_jets x N_constituents x N_features\n",
    "njet     = jetConstituent.shape[0]\n",
    "nconstit = jetConstituent.shape[1]\n",
    "nfeat    = jetConstituent.shape[2]\n",
    "\n",
    "print('Number of jets =',njet)\n",
    "print('Number of constituents =',nconstit)\n",
    "print('Number of features =',nfeat)\n"
   ]
  },
  {
   "cell_type": "markdown",
   "metadata": {},
   "source": [
    "## Dividing the data into testing and training dataset\n",
    "\n",
    "We will split the data into two parts (one for training+validation and one for testing) "
   ]
  },
  {
   "cell_type": "code",
   "execution_count": 5,
   "metadata": {},
   "outputs": [
    {
     "name": "stdout",
     "output_type": "stream",
     "text": [
      "(415400, 8, 3) (204600, 8, 3) (415400, 5) (204600, 5)\n",
      "number of G jets for training/validation: 83689\n",
      "number of Q jets for training/validation: 80676\n",
      "number of W jets for training/validation: 83507\n",
      "number of Z jets for training/validation: 83589\n",
      "number of T jets for training/validation: 83939\n",
      "number of G jets for testing: 41159\n",
      "number of Q jets for testing: 39535\n",
      "number of W jets for testing: 41430\n",
      "number of Z jets for testing: 41065\n",
      "number of T jets for testing: 41411\n"
     ]
    }
   ],
   "source": [
    "from sklearn.model_selection import train_test_split\n",
    "\n",
    "X = jetConstituent\n",
    "Y = target\n",
    "del jetConstituent , target\n",
    "\n",
    "X_train_val, X_test, Y_train_val, Y_test = train_test_split(X, Y, test_size=0.33, random_state=7)\n",
    "\n",
    "print(X_train_val.shape, X_test.shape, Y_train_val.shape, Y_test.shape)\n",
    "\n",
    "print('number of G jets for training/validation: %i'%np.sum( np.argmax(Y_train_val, axis=1)==0 ))\n",
    "print('number of Q jets for training/validation: %i'%np.sum( np.argmax(Y_train_val, axis=1)==1 ))\n",
    "print('number of W jets for training/validation: %i'%np.sum( np.argmax(Y_train_val, axis=1)==2 ))\n",
    "print('number of Z jets for training/validation: %i'%np.sum( np.argmax(Y_train_val, axis=1)==3 ))\n",
    "print('number of T jets for training/validation: %i'%np.sum( np.argmax(Y_train_val, axis=1)==4 ))\n",
    "\n",
    "\n",
    "print('number of G jets for testing: %i'%np.sum( np.argmax(Y_test, axis=1)==0 ))\n",
    "print('number of Q jets for testing: %i'%np.sum( np.argmax(Y_test, axis=1)==1 ))\n",
    "print('number of W jets for testing: %i'%np.sum( np.argmax(Y_test, axis=1)==2 ))\n",
    "print('number of Z jets for testing: %i'%np.sum( np.argmax(Y_test, axis=1)==3 ))\n",
    "print('number of T jets for testing: %i'%np.sum( np.argmax(Y_test, axis=1)==4 ))\n",
    "\n",
    "\n"
   ]
  },
  {
   "cell_type": "markdown",
   "metadata": {},
   "source": [
    "## GARNET implementation from Arpita"
   ]
  },
  {
   "cell_type": "code",
   "execution_count": 15,
   "metadata": {
    "colab": {
     "base_uri": "https://localhost:8080/"
    },
    "executionInfo": {
     "elapsed": 6350,
     "status": "ok",
     "timestamp": 1616956531619,
     "user": {
      "displayName": "Andre Sznajder",
      "photoUrl": "https://lh3.googleusercontent.com/-Bujzmul3q4w/AAAAAAAAAAI/AAAAAAAAA30/Zzdg4zcPB-8/s64/photo.jpg",
      "userId": "12562331206892861623"
     },
     "user_tz": -120
    },
    "id": "aqEAX7zIBn40",
    "outputId": "f71a892c-d086-4df8-9e11-b1116e448764"
   },
   "outputs": [
    {
     "name": "stdout",
     "output_type": "stream",
     "text": [
      "Model: \"model_5\"\n",
      "__________________________________________________________________________________________________\n",
      "Layer (type)                    Output Shape         Param #     Connected to                     \n",
      "==================================================================================================\n",
      "input_11 (InputLayer)           [(None, 8, 3)]       0                                            \n",
      "__________________________________________________________________________________________________\n",
      "batch_normalization_5 (BatchNor (None, 8, 3)         12          input_11[0][0]                   \n",
      "__________________________________________________________________________________________________\n",
      "input_12 (InputLayer)           [(None, 1)]          0                                            \n",
      "__________________________________________________________________________________________________\n",
      "gar_1 (GarNet)                  (None, 16)           3984        batch_normalization_5[0][0]      \n",
      "                                                                 input_12[0][0]                   \n",
      "__________________________________________________________________________________________________\n",
      "flatten_5 (Flatten)             (None, 16)           0           gar_1[0][0]                      \n",
      "__________________________________________________________________________________________________\n",
      "dense_20 (Dense)                (None, 16)           272         flatten_5[0][0]                  \n",
      "__________________________________________________________________________________________________\n",
      "dense_21 (Dense)                (None, 16)           272         dense_20[0][0]                   \n",
      "__________________________________________________________________________________________________\n",
      "dense_22 (Dense)                (None, 16)           272         dense_21[0][0]                   \n",
      "__________________________________________________________________________________________________\n",
      "dense_23 (Dense)                (None, 5)            85          dense_22[0][0]                   \n",
      "==================================================================================================\n",
      "Total params: 4,897\n",
      "Trainable params: 4,891\n",
      "Non-trainable params: 6\n",
      "__________________________________________________________________________________________________\n"
     ]
    }
   ],
   "source": [
    "from garnet import GarNetStack, GarNet\n",
    "from tensorflow.keras import metrics\n",
    "from sklearn.utils import shuffle\n",
    "from tensorflow.keras.callbacks import EarlyStopping, ReduceLROnPlateau, TerminateOnNaN\n",
    "import tensorflow.keras as keras\n",
    "from tensorflow.keras.optimizers import SGD, Adam\n",
    "from tensorflow.keras.layers import Input, Activation, Dense, Dropout, BatchNormalization\n",
    "\n",
    "\n",
    "K = keras.backend\n",
    "\n",
    "vmax = 8\n",
    "quantize = False\n",
    "x = keras.layers.Input(shape=(vmax, 3))\n",
    "n = keras.layers.Input(shape=(1,), dtype='uint16')\n",
    "inputs = [x, n]\n",
    "\n",
    "x = keras.layers.BatchNormalization()(x)\n",
    "v = GarNet(20, 16, 12, simplified=True, collapse='mean', input_format='xn', \n",
    "                output_activation='relu', name='gar_1', quantize_transforms=quantize)([x, n])\n",
    "\n",
    "#v = GarNet(32, 32, 32, simplified=True, collapse='mean', input_format='xn', \n",
    "#                output_activation='relu', name='gar_1', quantize_transforms=quantize)([x, n])\n",
    "#v = GarNet(32, 32, 32, simplified=True, collapse='mean', input_format='xn',\n",
    "#                output_activation='relu', name='gar_1', quantize_transforms=quantize)([x, n])\n",
    "\n",
    "v = keras.layers.Flatten()(v)\n",
    "v = keras.layers.Dense(16, activation='relu')(v)\n",
    "v = keras.layers.Dense(16, activation='relu')(v)\n",
    "v = keras.layers.Dense(16, activation='relu')(v)\n",
    "\n",
    "outLayer = keras.layers.Dense(5, activation='softmax')(v)\n",
    "\n",
    "# Build the model\n",
    "model = keras.Model(inputs=inputs, outputs=outLayer)\n",
    "\n",
    "# Compile the model\n",
    "optim = Adam(learning_rate=0.0002)\n",
    "model.compile(optimizer=optim, loss='categorical_crossentropy', metrics=['categorical_accuracy'])\n",
    "\n",
    "# print the model summary\n",
    "model.summary()"
   ]
  },
  {
   "cell_type": "markdown",
   "metadata": {},
   "source": [
    "# Define the Model and Compile \n"
   ]
  },
  {
   "cell_type": "markdown",
   "metadata": {
    "id": "YlDvqPkIBn48"
   },
   "source": [
    "## Run training\n",
    "Here, we run the training."
   ]
  },
  {
   "cell_type": "code",
   "execution_count": 16,
   "metadata": {
    "colab": {
     "base_uri": "https://localhost:8080/"
    },
    "executionInfo": {
     "elapsed": 9682,
     "status": "ok",
     "timestamp": 1616956534957,
     "user": {
      "displayName": "Andre Sznajder",
      "photoUrl": "https://lh3.googleusercontent.com/-Bujzmul3q4w/AAAAAAAAAAI/AAAAAAAAA30/Zzdg4zcPB-8/s64/photo.jpg",
      "userId": "12562331206892861623"
     },
     "user_tz": -120
    },
    "id": "p3lHpPv-Bn49",
    "outputId": "252bb588-0b97-49ce-c444-60926c01c2f8"
   },
   "outputs": [
    {
     "name": "stdout",
     "output_type": "stream",
     "text": [
      "WARNING:tensorflow:`period` argument is deprecated. Please use `save_freq` to specify the frequency in number of batches seen.\n",
      "Epoch 1/50\n",
      "544/544 [==============================] - 3s 6ms/step - loss: 1.4420 - categorical_accuracy: 0.3882 - val_loss: 1.3392 - val_categorical_accuracy: 0.4354\n",
      "Epoch 2/50\n",
      "544/544 [==============================] - 3s 5ms/step - loss: 1.1895 - categorical_accuracy: 0.5186 - val_loss: 1.1458 - val_categorical_accuracy: 0.5466\n",
      "Epoch 3/50\n",
      "544/544 [==============================] - 3s 5ms/step - loss: 1.1217 - categorical_accuracy: 0.5528 - val_loss: 1.1011 - val_categorical_accuracy: 0.5681\n",
      "Epoch 4/50\n",
      "544/544 [==============================] - 3s 5ms/step - loss: 1.0885 - categorical_accuracy: 0.5731 - val_loss: 1.0733 - val_categorical_accuracy: 0.5849\n",
      "Epoch 5/50\n",
      "544/544 [==============================] - 3s 5ms/step - loss: 1.0667 - categorical_accuracy: 0.5858 - val_loss: 1.0538 - val_categorical_accuracy: 0.5939\n",
      "Epoch 6/50\n",
      "544/544 [==============================] - 3s 6ms/step - loss: 1.0514 - categorical_accuracy: 0.5937 - val_loss: 1.0411 - val_categorical_accuracy: 0.5996\n",
      "Epoch 7/50\n",
      "544/544 [==============================] - 3s 6ms/step - loss: 1.0419 - categorical_accuracy: 0.5982 - val_loss: 1.0313 - val_categorical_accuracy: 0.6060\n",
      "Epoch 8/50\n",
      "544/544 [==============================] - 3s 5ms/step - loss: 1.0341 - categorical_accuracy: 0.6026 - val_loss: 1.0277 - val_categorical_accuracy: 0.6091\n",
      "Epoch 9/50\n",
      "544/544 [==============================] - 3s 6ms/step - loss: 1.0288 - categorical_accuracy: 0.6049 - val_loss: 1.0190 - val_categorical_accuracy: 0.6125\n",
      "Epoch 10/50\n",
      "544/544 [==============================] - 3s 6ms/step - loss: 1.0235 - categorical_accuracy: 0.6075 - val_loss: 1.0145 - val_categorical_accuracy: 0.6131\n",
      "Epoch 11/50\n",
      "544/544 [==============================] - 3s 6ms/step - loss: 1.0189 - categorical_accuracy: 0.6091 - val_loss: 1.0098 - val_categorical_accuracy: 0.6154\n",
      "Epoch 12/50\n",
      "544/544 [==============================] - 3s 6ms/step - loss: 1.0148 - categorical_accuracy: 0.6114 - val_loss: 1.0056 - val_categorical_accuracy: 0.6195\n",
      "Epoch 13/50\n",
      "544/544 [==============================] - 3s 5ms/step - loss: 1.0108 - categorical_accuracy: 0.6136 - val_loss: 1.0026 - val_categorical_accuracy: 0.6184\n",
      "Epoch 14/50\n",
      "544/544 [==============================] - 3s 5ms/step - loss: 1.0096 - categorical_accuracy: 0.6133 - val_loss: 1.0015 - val_categorical_accuracy: 0.6200\n",
      "Epoch 15/50\n",
      "544/544 [==============================] - 3s 6ms/step - loss: 1.0046 - categorical_accuracy: 0.6162 - val_loss: 0.9965 - val_categorical_accuracy: 0.6210\n",
      "Epoch 16/50\n",
      "544/544 [==============================] - 3s 5ms/step - loss: 1.0027 - categorical_accuracy: 0.6168 - val_loss: 0.9968 - val_categorical_accuracy: 0.6220\n",
      "Epoch 17/50\n",
      "544/544 [==============================] - 3s 6ms/step - loss: 0.9999 - categorical_accuracy: 0.6182 - val_loss: 0.9913 - val_categorical_accuracy: 0.6234\n",
      "Epoch 18/50\n",
      "544/544 [==============================] - 3s 5ms/step - loss: 0.9982 - categorical_accuracy: 0.6184 - val_loss: 0.9904 - val_categorical_accuracy: 0.6229\n",
      "Epoch 19/50\n",
      "544/544 [==============================] - 3s 5ms/step - loss: 0.9968 - categorical_accuracy: 0.6193 - val_loss: 0.9881 - val_categorical_accuracy: 0.6249\n",
      "Epoch 20/50\n",
      "544/544 [==============================] - 3s 6ms/step - loss: 0.9946 - categorical_accuracy: 0.6200 - val_loss: 0.9864 - val_categorical_accuracy: 0.6261\n",
      "Epoch 21/50\n",
      "544/544 [==============================] - 3s 6ms/step - loss: 0.9921 - categorical_accuracy: 0.6211 - val_loss: 0.9864 - val_categorical_accuracy: 0.6259\n",
      "Epoch 22/50\n",
      "544/544 [==============================] - 3s 5ms/step - loss: 0.9908 - categorical_accuracy: 0.6217 - val_loss: 0.9814 - val_categorical_accuracy: 0.6277\n",
      "Epoch 23/50\n",
      "544/544 [==============================] - 3s 6ms/step - loss: 0.9890 - categorical_accuracy: 0.6221 - val_loss: 0.9809 - val_categorical_accuracy: 0.6273\n",
      "Epoch 24/50\n",
      "544/544 [==============================] - 3s 5ms/step - loss: 0.9880 - categorical_accuracy: 0.6225 - val_loss: 0.9786 - val_categorical_accuracy: 0.6285\n",
      "Epoch 25/50\n",
      "544/544 [==============================] - 3s 5ms/step - loss: 0.9864 - categorical_accuracy: 0.6228 - val_loss: 0.9783 - val_categorical_accuracy: 0.6290\n",
      "Epoch 26/50\n",
      "544/544 [==============================] - 3s 5ms/step - loss: 0.9848 - categorical_accuracy: 0.6242 - val_loss: 0.9785 - val_categorical_accuracy: 0.6281\n",
      "Epoch 27/50\n",
      "544/544 [==============================] - 3s 5ms/step - loss: 0.9841 - categorical_accuracy: 0.6246 - val_loss: 0.9758 - val_categorical_accuracy: 0.6302\n",
      "Epoch 28/50\n",
      "544/544 [==============================] - 3s 5ms/step - loss: 0.9838 - categorical_accuracy: 0.6241 - val_loss: 0.9745 - val_categorical_accuracy: 0.6304\n",
      "Epoch 29/50\n",
      "544/544 [==============================] - 3s 5ms/step - loss: 0.9816 - categorical_accuracy: 0.6251 - val_loss: 0.9734 - val_categorical_accuracy: 0.6312\n",
      "Epoch 30/50\n",
      "544/544 [==============================] - 3s 5ms/step - loss: 0.9823 - categorical_accuracy: 0.6245 - val_loss: 0.9742 - val_categorical_accuracy: 0.6296\n",
      "Epoch 31/50\n",
      "544/544 [==============================] - 3s 5ms/step - loss: 0.9814 - categorical_accuracy: 0.6252 - val_loss: 0.9749 - val_categorical_accuracy: 0.6291\n",
      "Epoch 32/50\n",
      "544/544 [==============================] - 3s 5ms/step - loss: 0.9775 - categorical_accuracy: 0.6271 - val_loss: 0.9702 - val_categorical_accuracy: 0.6318\n",
      "Epoch 33/50\n",
      "544/544 [==============================] - 3s 5ms/step - loss: 0.9773 - categorical_accuracy: 0.6274 - val_loss: 0.9706 - val_categorical_accuracy: 0.6320\n",
      "Epoch 34/50\n",
      "544/544 [==============================] - 3s 5ms/step - loss: 0.9770 - categorical_accuracy: 0.6277 - val_loss: 0.9700 - val_categorical_accuracy: 0.6321\n",
      "Epoch 35/50\n",
      "544/544 [==============================] - 3s 5ms/step - loss: 0.9774 - categorical_accuracy: 0.6273 - val_loss: 0.9709 - val_categorical_accuracy: 0.6323\n",
      "Epoch 36/50\n",
      "544/544 [==============================] - 3s 5ms/step - loss: 0.9774 - categorical_accuracy: 0.6276 - val_loss: 0.9697 - val_categorical_accuracy: 0.6316\n",
      "Epoch 37/50\n",
      "544/544 [==============================] - 3s 6ms/step - loss: 0.9768 - categorical_accuracy: 0.6273 - val_loss: 0.9692 - val_categorical_accuracy: 0.6319\n",
      "Epoch 38/50\n",
      "544/544 [==============================] - 3s 6ms/step - loss: 0.9764 - categorical_accuracy: 0.6277 - val_loss: 0.9695 - val_categorical_accuracy: 0.6316\n",
      "Epoch 39/50\n",
      "544/544 [==============================] - 3s 6ms/step - loss: 0.9754 - categorical_accuracy: 0.6287 - val_loss: 0.9693 - val_categorical_accuracy: 0.6321\n",
      "Epoch 40/50\n",
      "544/544 [==============================] - 3s 6ms/step - loss: 0.9752 - categorical_accuracy: 0.6285 - val_loss: 0.9688 - val_categorical_accuracy: 0.6323\n",
      "Epoch 41/50\n",
      "544/544 [==============================] - 3s 5ms/step - loss: 0.9755 - categorical_accuracy: 0.6285 - val_loss: 0.9689 - val_categorical_accuracy: 0.6323\n",
      "Epoch 42/50\n",
      "544/544 [==============================] - 3s 5ms/step - loss: 0.9752 - categorical_accuracy: 0.6282 - val_loss: 0.9689 - val_categorical_accuracy: 0.6327\n",
      "Epoch 43/50\n",
      "544/544 [==============================] - 3s 5ms/step - loss: 0.9753 - categorical_accuracy: 0.6283 - val_loss: 0.9686 - val_categorical_accuracy: 0.6325\n",
      "Epoch 44/50\n",
      "544/544 [==============================] - 3s 5ms/step - loss: 0.9752 - categorical_accuracy: 0.6286 - val_loss: 0.9686 - val_categorical_accuracy: 0.6324\n",
      "Epoch 45/50\n",
      "544/544 [==============================] - 3s 5ms/step - loss: 0.9750 - categorical_accuracy: 0.6287 - val_loss: 0.9686 - val_categorical_accuracy: 0.6325\n",
      "Epoch 46/50\n",
      "544/544 [==============================] - 3s 5ms/step - loss: 0.9744 - categorical_accuracy: 0.6287 - val_loss: 0.9688 - val_categorical_accuracy: 0.6326\n",
      "Epoch 47/50\n",
      "544/544 [==============================] - 3s 5ms/step - loss: 0.9756 - categorical_accuracy: 0.6281 - val_loss: 0.9686 - val_categorical_accuracy: 0.6326\n",
      "Epoch 48/50\n",
      "544/544 [==============================] - 3s 5ms/step - loss: 0.9764 - categorical_accuracy: 0.6274 - val_loss: 0.9687 - val_categorical_accuracy: 0.6326\n",
      "Epoch 49/50\n",
      "544/544 [==============================] - 3s 5ms/step - loss: 0.9747 - categorical_accuracy: 0.6286 - val_loss: 0.9685 - val_categorical_accuracy: 0.6323\n",
      "Epoch 50/50\n",
      "544/544 [==============================] - 3s 5ms/step - loss: 0.9751 - categorical_accuracy: 0.6287 - val_loss: 0.9686 - val_categorical_accuracy: 0.6324\n"
     ]
    }
   ],
   "source": [
    "from tensorflow.keras.callbacks import EarlyStopping, ModelCheckpoint, ReduceLROnPlateau\n",
    "\n",
    "# early stopping callback\n",
    "early_stopping = EarlyStopping(monitor='val_loss', patience=10)\n",
    "\n",
    "# Learning rate scheduler \n",
    "lr_scheduler = ReduceLROnPlateau(factor=0.2, patience=2)\n",
    "\n",
    "# model checkpoint callback\n",
    "# this saves our model architecture + parameters into mlp_model.h5\n",
    "model_checkpoint = ModelCheckpoint('Garnet_arpita.h5', monitor='val_categorical_accuracy', \n",
    "                                   verbose=0, save_best_only=True, \n",
    "                                   save_weights_only=False, mode='auto', \n",
    "                                   period=1)\n",
    "\n",
    "# Train classifier\n",
    "V_train_val =  np.ones((X_train_val.shape[0],1))*vmax\n",
    "history = model.fit( [ X_train_val, V_train_val ] , Y_train_val, \n",
    "                    epochs=50, \n",
    "                    batch_size=512, \n",
    "                    verbose=1,\n",
    "                    callbacks=[lr_scheduler , early_stopping, model_checkpoint], \n",
    "                    validation_split=0.33 )\n",
    "                    \n",
    "#                    callbacks=[early_stopping, model_checkpoint], \n",
    "                    "
   ]
  },
  {
   "cell_type": "markdown",
   "metadata": {
    "id": "np12nLtsBn5A"
   },
   "source": [
    "## Plot performance\n",
    "Here, we plot the history of the training and the performance in a ROC curve"
   ]
  },
  {
   "cell_type": "code",
   "execution_count": 17,
   "metadata": {
    "colab": {
     "base_uri": "https://localhost:8080/",
     "height": 605
    },
    "executionInfo": {
     "elapsed": 10466,
     "status": "ok",
     "timestamp": 1616956535743,
     "user": {
      "displayName": "Andre Sznajder",
      "photoUrl": "https://lh3.googleusercontent.com/-Bujzmul3q4w/AAAAAAAAAAI/AAAAAAAAA30/Zzdg4zcPB-8/s64/photo.jpg",
      "userId": "12562331206892861623"
     },
     "user_tz": -120
    },
    "id": "Z_dscosMBn5B",
    "outputId": "6f9f7a67-1607-42ab-a9f8-5635b360eaec"
   },
   "outputs": [
    {
     "data": {
      "image/png": "[encoded data removed]",
      "text/plain": [
       "<Figure size 1080x720 with 4 Axes>"
      ]
     },
     "metadata": {
      "needs_background": "light"
     },
     "output_type": "display_data"
    }
   ],
   "source": [
    "from sklearn.metrics import roc_curve, auc\n",
    "import matplotlib.pyplot as plt\n",
    "\n",
    "#plt.rcParams['axes.unicode_minus'] = False\n",
    "\n",
    "# Plot loss vs epoch\n",
    "plt.figure(figsize=(15,10))\n",
    "ax = plt.subplot(2, 2, 1)\n",
    "ax.plot(history.history['loss'], label='loss')\n",
    "ax.plot(history.history['val_loss'], label='val loss')\n",
    "ax.legend(loc=\"upper right\")\n",
    "ax.set_xlabel('epoch')\n",
    "ax.set_ylabel('loss')\n",
    "\n",
    "# Plot accuracy vs epoch\n",
    "ax = plt.subplot(2, 2, 2)\n",
    "ax.plot(history.history['categorical_accuracy'], label='categorical_accuracy')\n",
    "ax.plot(history.history['val_categorical_accuracy'], label='val categorical accuracy')\n",
    "ax.legend(loc=\"upper left\")\n",
    "ax.set_xlabel('epoch')\n",
    "ax.set_ylabel('acc')\n",
    "\n",
    "# Plot the ROC curves\n",
    "labels = ['gluon', 'quark', 'W', 'Z', 'top']\n",
    "fpr = {}\n",
    "tpr = {}\n",
    "auc1 = {}\n",
    "\n",
    "ax = plt.subplot(2, 2, 3)\n",
    "\n",
    "V_test =  np.ones((X_test.shape[0],1))*vmax\n",
    "Y_predict = model.predict([X_test, V_test])\n",
    "\n",
    "for i, label in enumerate(labels):\n",
    "    fpr[label], tpr[label], _ = roc_curve(Y_test[:,i], Y_predict[:,i])\n",
    "    auc1[label] = auc(fpr[label], tpr[label])\n",
    "    ax.plot(tpr[label],fpr[label],label='%s tagger, auc = %.1f%%'%(label,auc1[label]*100.))\n",
    "    \n",
    "ax.semilogy()\n",
    "ax.set_xlabel(\"sig. efficiency\")\n",
    "ax.set_ylabel(\"bkg. mistag rate\")\n",
    "ax.set_ylim(0.001,1)\n",
    "#ax.set_grid(True)\n",
    "ax.legend(loc='lower right')\n",
    "#plt.savefig('%s/ROC.pdf'%(options.outputDir))\n",
    "\n",
    "\n",
    "\n",
    "# Plot DNN output \n",
    "ax = plt.subplot(2, 2, 4)\n",
    "X = np.linspace(0.0, 1.0, 20)\n",
    "hist={}\n",
    "for i, name in enumerate(labels):\n",
    "    hist[name] = ax.hist(Y_predict, bins=X, label=name ,histtype='step')\n",
    "ax.semilogy()\n",
    "ax.set_xlabel('DNN Output')\n",
    "ax.legend(loc='lower left')\n",
    "ax.legend(prop={'size': 10})\n",
    "\n",
    "# Display plots\n",
    "plt.show()\n",
    "\n",
    "    "
   ]
  },
  {
   "cell_type": "code",
   "execution_count": null,
   "metadata": {},
   "outputs": [],
   "source": [
    "# Save FPR for a given TPR value ( 30% , 50% & 80%) \n",
    "model_name = 'Garnet'\n",
    "with open('performance_'+model_name+'_nconst_'+str(nmax)+'_nbits_'+str(nbits)+'.csv', 'w') as file:\n",
    "  file.write(\"model,label,treshold,tpr,fpr\\n\")\n",
    "  for label in labels:\n",
    "    for t in [0.3, 0.5, 0.8]:\n",
    "      index = np.argmax(tpr[label]>t)\n",
    "      file.write( model_name+','+label+','+str(t)+','+str(tpr[label][index])+','+str(fpr[label][index])+'\\n' )\n",
    "      print(\"Label = \", label , \" with treshold = \",t)\n",
    "      print(\"TPR = \",tpr[label][index])\n",
    "      print(\"FPR = \",fpr[label][index])\n",
    "      print(\" \")"
   ]
  },
  {
   "cell_type": "code",
   "execution_count": null,
   "metadata": {},
   "outputs": [],
   "source": []
  },
  {
   "cell_type": "code",
   "execution_count": null,
   "metadata": {},
   "outputs": [],
   "source": []
  }
 ],
 "metadata": {
  "accelerator": "GPU",
  "colab": {
   "collapsed_sections": [],
   "name": "JetTagging_MLP_TFKeras.ipynb",
   "provenance": [
    {
     "file_id": "1_LtW5Af1ruCzp6IH18NNj2K3Vbgqto-F",
     "timestamp": 1613800914899
    },
    {
     "file_id": "https://github.com/thongonary/machine_learning_vbscan/blob/master/5-conv2d.ipynb",
     "timestamp": 1551264063701
    }
   ]
  },
  "kernelspec": {
   "display_name": "Python 3",
   "language": "python",
   "name": "python3"
  },
  "language_info": {
   "codemirror_mode": {
    "name": "ipython",
    "version": 3
   },
   "file_extension": ".py",
   "mimetype": "text/x-python",
   "name": "python",
   "nbconvert_exporter": "python",
   "pygments_lexer": "ipython3",
   "version": "3.9.5"
  }
 },
 "nbformat": 4,
 "nbformat_minor": 4
}
