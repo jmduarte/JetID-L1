{
 "cells": [
  {
   "cell_type": "code",
   "execution_count": null,
   "id": "cathedral-uncertainty",
   "metadata": {},
   "outputs": [],
   "source": [
    "import os\n",
    "import setGPU\n",
    "# edit depending on where Vivado is installed:\n",
    "# os.environ['PATH'] = '/<Xilinx installation directory>/Vivado/<version>/bin:' + os.environ['PATH']\n",
    "os.environ['PATH'] = '/xilinx/Vivado/2019.2/bin:' + os.environ['PATH']\n",
    "import tensorflow as tf\n",
    "from qkeras.utils import _add_supported_quantized_objects\n",
    "import hls4ml\n",
    "import numpy as np\n",
    "from tensorflow.keras.utils import to_categorical\n",
    "from sklearn.datasets import fetch_openml\n",
    "from sklearn.model_selection import train_test_split\n",
    "from sklearn.preprocessing import LabelEncoder, StandardScaler\n",
    "\n",
    "from tensorflow.keras.models import Sequential\n",
    "from tensorflow.keras.layers import Activation\n",
    "from tensorflow.keras.optimizers import Adam\n",
    "from tensorflow.keras.regularizers import l1\n",
    "from qkeras.qlayers import QDense, QActivation\n",
    "from qkeras.quantizers import quantized_bits, quantized_relu\n",
    "\n",
    "from sklearn.metrics import accuracy_score\n",
    "from tensorflow.keras.models import Model"
   ]
  },
  {
   "cell_type": "code",
   "execution_count": null,
   "id": "instant-cricket",
   "metadata": {},
   "outputs": [],
   "source": [
    "def yaml_load(config):\n",
    "    with open(config) as stream:\n",
    "        param = yaml.safe_load(stream)\n",
    "        \n",
    "\n",
    "def print_dict(d, indent=0):\n",
    "    align=20\n",
    "    for key, value in d.items():\n",
    "        print('  ' * indent + str(key), end='')\n",
    "        if isinstance(value, dict):\n",
    "            print()\n",
    "            print_dict(value, indent+1)\n",
    "        else:\n",
    "            print(':' + ' ' * (20 - len(key) - 2 * indent) + str(value))"
   ]
  },
  {
   "cell_type": "code",
   "execution_count": null,
   "id": "partial-genius",
   "metadata": {},
   "outputs": [],
   "source": [
    "model_file_path = 'model_QInteractionNetwork_nconst_8_nbits_8.h5'"
   ]
  },
  {
   "cell_type": "code",
   "execution_count": null,
   "id": "posted-diagram",
   "metadata": {},
   "outputs": [],
   "source": [
    "from tensorflow.keras.models import load_model\n",
    "from qkeras.utils import _add_supported_quantized_objects\n",
    "co = {}\n",
    "_add_supported_quantized_objects(co)    \n",
    "\n",
    "model = load_model(model_file_path, custom_objects=co)\n",
    "model.summary()"
   ]
  },
  {
   "cell_type": "code",
   "execution_count": null,
   "id": "powerful-buffer",
   "metadata": {},
   "outputs": [],
   "source": [
    "import hls4ml\n",
    "config = hls4ml.utils.config_from_keras_model(model, granularity='name')\n",
    "\n",
    "config['Model'] = {}\n",
    "config['Model']['ReuseFactor'] = 1\n",
    "config['Model']['Strategy'] = 'Latency'\n",
    "config['Model']['Precision'] = 'ap_fixed<16,6>'\n",
    "\n",
    "cfg = hls4ml.converters.create_vivado_config(fpga_part='xc7z020clg400-1')\n",
    "cfg['HLSConfig'] = config\n",
    "cfg['IOType'] = 'io_parallel'\n",
    "cfg['Backend'] = 'Vivado'\n",
    "cfg['ClockPeriod'] = 10\n",
    "cfg['KerasModel'] = model\n",
    "cfg['OutputDir'] = 'hls_output'\n",
    "\n",
    "print(\"-----------------------------------\")\n",
    "print_dict(cfg)\n",
    "print(\"-----------------------------------\")"
   ]
  },
  {
   "cell_type": "code",
   "execution_count": null,
   "id": "champion-anderson",
   "metadata": {},
   "outputs": [],
   "source": [
    "# just test transpose\n",
    "from tensorflow.keras.layers import Input, Permute, Flatten, Reshape\n",
    "inputs = Input(shape=(8,3,))\n",
    "outputs = Permute((2,1))(inputs)\n",
    "\n",
    "model = Model(inputs=inputs, outputs=outputs)\n",
    "print(model.summary())\n",
    "\n",
    "config = hls4ml.utils.config_from_keras_model(model, granularity='name')\n",
    "\n",
    "config['Model'] = {}\n",
    "config['Model']['ReuseFactor'] = 1\n",
    "config['Model']['Strategy'] = 'Latency'\n",
    "config['Model']['Precision'] = 'ap_fixed<16,6>'\n",
    "\n",
    "cfg = hls4ml.converters.create_vivado_config(fpga_part='xc7z020clg400-1')\n",
    "cfg['HLSConfig'] = config\n",
    "cfg['IOType'] = 'io_parallel'\n",
    "cfg['Backend'] = 'Vivado'\n",
    "cfg['ClockPeriod'] = 10\n",
    "cfg['KerasModel'] = model\n",
    "cfg['OutputDir'] = 'hls_output'\n",
    "\n",
    "print(\"-----------------------------------\")\n",
    "print_dict(cfg)\n",
    "print(\"-----------------------------------\")\n",
    "\n",
    "hls_model = hls4ml.converters.keras_to_hls(cfg)\n",
    "hls_model.compile()"
   ]
  },
  {
   "cell_type": "code",
   "execution_count": null,
   "id": "dying-stage",
   "metadata": {},
   "outputs": [],
   "source": [
    "x = np.random.rand(1, 3, 8)\n",
    "print(x.flatten())\n",
    "print(x.transpose().flatten())"
   ]
  },
  {
   "cell_type": "code",
   "execution_count": null,
   "id": "grateful-secret",
   "metadata": {},
   "outputs": [],
   "source": [
    "print(hls_model.predict(x))"
   ]
  },
  {
   "cell_type": "code",
   "execution_count": null,
   "id": "constant-maple",
   "metadata": {},
   "outputs": [],
   "source": []
  }
 ],
 "metadata": {
  "kernelspec": {
   "display_name": "Python 3",
   "language": "python",
   "name": "python3"
  },
  "language_info": {
   "codemirror_mode": {
    "name": "ipython",
    "version": 3
   },
   "file_extension": ".py",
   "mimetype": "text/x-python",
   "name": "python",
   "nbconvert_exporter": "python",
   "pygments_lexer": "ipython3",
   "version": "3.7.9"
  }
 },
 "nbformat": 4,
 "nbformat_minor": 5
}
